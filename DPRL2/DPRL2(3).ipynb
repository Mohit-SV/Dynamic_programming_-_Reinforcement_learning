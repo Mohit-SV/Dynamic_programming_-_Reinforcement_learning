{
  "nbformat": 4,
  "nbformat_minor": 0,
  "metadata": {
    "colab": {
      "name": "DPRL2.ipynb",
      "provenance": [],
      "collapsed_sections": []
    },
    "kernelspec": {
      "name": "python3",
      "display_name": "Python 3"
    },
    "language_info": {
      "name": "python"
    }
  },
  "cells": [
    {
      "cell_type": "markdown",
      "metadata": {
        "id": "K9Tl-IqIRL0r"
      },
      "source": [
        "## Submitted by: \n",
        "\n",
        "*   Venkat Mohit Sornapudi (2721697)\n",
        "*   Clifton Roozendal (2534824)\n",
        "\n"
      ]
    },
    {
      "cell_type": "code",
      "metadata": {
        "id": "n1nv_8wz3hca"
      },
      "source": [
        "import numpy as np\n",
        "np.set_printoptions(formatter={'float': lambda x: \"{0:0.4f}\".format(x)})"
      ],
      "execution_count": 1,
      "outputs": []
    },
    {
      "cell_type": "code",
      "metadata": {
        "colab": {
          "base_uri": "https://localhost:8080/"
        },
        "id": "uI077Twc3oii",
        "outputId": "9993d079-0b2e-47ff-9932-7a9566dc265a"
      },
      "source": [
        "P = np.zeros((91,91))\n",
        "for i in range(P.shape[0]):\n",
        "    for j in range(P.shape[1]):\n",
        "        if j == 0:\n",
        "            P[i,j] = 0.1 + 0.01*i\n",
        "        if j == i+1:\n",
        "            P[i,j] = 1 - P[i,0]\n",
        "            \n",
        "P"
      ],
      "execution_count": 2,
      "outputs": [
        {
          "output_type": "execute_result",
          "data": {
            "text/plain": [
              "array([[0.1000, 0.9000, 0.0000, ..., 0.0000, 0.0000, 0.0000],\n",
              "       [0.1100, 0.0000, 0.8900, ..., 0.0000, 0.0000, 0.0000],\n",
              "       [0.1200, 0.0000, 0.0000, ..., 0.0000, 0.0000, 0.0000],\n",
              "       ...,\n",
              "       [0.9800, 0.0000, 0.0000, ..., 0.0000, 0.0200, 0.0000],\n",
              "       [0.9900, 0.0000, 0.0000, ..., 0.0000, 0.0000, 0.0100],\n",
              "       [1.0000, 0.0000, 0.0000, ..., 0.0000, 0.0000, 0.0000]])"
            ]
          },
          "metadata": {},
          "execution_count": 2
        }
      ]
    },
    {
      "cell_type": "code",
      "metadata": {
        "colab": {
          "base_uri": "https://localhost:8080/"
        },
        "id": "unkQHEtF3qLn",
        "outputId": "f3a9735a-6099-4d2d-e74a-21a916449a68"
      },
      "source": [
        "r = np.zeros((1,91))\n",
        "r[0][0] = -1\n",
        "\n",
        "r      "
      ],
      "execution_count": 3,
      "outputs": [
        {
          "output_type": "execute_result",
          "data": {
            "text/plain": [
              "array([[-1.0000, 0.0000, 0.0000, 0.0000, 0.0000, 0.0000, 0.0000, 0.0000,\n",
              "        0.0000, 0.0000, 0.0000, 0.0000, 0.0000, 0.0000, 0.0000, 0.0000,\n",
              "        0.0000, 0.0000, 0.0000, 0.0000, 0.0000, 0.0000, 0.0000, 0.0000,\n",
              "        0.0000, 0.0000, 0.0000, 0.0000, 0.0000, 0.0000, 0.0000, 0.0000,\n",
              "        0.0000, 0.0000, 0.0000, 0.0000, 0.0000, 0.0000, 0.0000, 0.0000,\n",
              "        0.0000, 0.0000, 0.0000, 0.0000, 0.0000, 0.0000, 0.0000, 0.0000,\n",
              "        0.0000, 0.0000, 0.0000, 0.0000, 0.0000, 0.0000, 0.0000, 0.0000,\n",
              "        0.0000, 0.0000, 0.0000, 0.0000, 0.0000, 0.0000, 0.0000, 0.0000,\n",
              "        0.0000, 0.0000, 0.0000, 0.0000, 0.0000, 0.0000, 0.0000, 0.0000,\n",
              "        0.0000, 0.0000, 0.0000, 0.0000, 0.0000, 0.0000, 0.0000, 0.0000,\n",
              "        0.0000, 0.0000, 0.0000, 0.0000, 0.0000, 0.0000, 0.0000, 0.0000,\n",
              "        0.0000, 0.0000, 0.0000]])"
            ]
          },
          "metadata": {},
          "execution_count": 3
        }
      ]
    },
    {
      "cell_type": "markdown",
      "metadata": {
        "id": "VWsNCovlmNmR"
      },
      "source": [
        "# Part 1: Finding the stationary distribution by recursion"
      ]
    },
    {
      "cell_type": "code",
      "metadata": {
        "colab": {
          "base_uri": "https://localhost:8080/"
        },
        "id": "oSTgrtJn3vhp",
        "outputId": "e54417b5-9441-4a9c-dc91-4a3347c18b72"
      },
      "source": [
        "pi = np.zeros((1,91))\n",
        "pi[0,0] = 1\n",
        "\n",
        "pi"
      ],
      "execution_count": 9,
      "outputs": [
        {
          "output_type": "execute_result",
          "data": {
            "text/plain": [
              "array([[1.0000, 0.0000, 0.0000, 0.0000, 0.0000, 0.0000, 0.0000, 0.0000,\n",
              "        0.0000, 0.0000, 0.0000, 0.0000, 0.0000, 0.0000, 0.0000, 0.0000,\n",
              "        0.0000, 0.0000, 0.0000, 0.0000, 0.0000, 0.0000, 0.0000, 0.0000,\n",
              "        0.0000, 0.0000, 0.0000, 0.0000, 0.0000, 0.0000, 0.0000, 0.0000,\n",
              "        0.0000, 0.0000, 0.0000, 0.0000, 0.0000, 0.0000, 0.0000, 0.0000,\n",
              "        0.0000, 0.0000, 0.0000, 0.0000, 0.0000, 0.0000, 0.0000, 0.0000,\n",
              "        0.0000, 0.0000, 0.0000, 0.0000, 0.0000, 0.0000, 0.0000, 0.0000,\n",
              "        0.0000, 0.0000, 0.0000, 0.0000, 0.0000, 0.0000, 0.0000, 0.0000,\n",
              "        0.0000, 0.0000, 0.0000, 0.0000, 0.0000, 0.0000, 0.0000, 0.0000,\n",
              "        0.0000, 0.0000, 0.0000, 0.0000, 0.0000, 0.0000, 0.0000, 0.0000,\n",
              "        0.0000, 0.0000, 0.0000, 0.0000, 0.0000, 0.0000, 0.0000, 0.0000,\n",
              "        0.0000, 0.0000, 0.0000]])"
            ]
          },
          "metadata": {},
          "execution_count": 9
        }
      ]
    },
    {
      "cell_type": "code",
      "metadata": {
        "id": "mG9W93i732fm",
        "colab": {
          "base_uri": "https://localhost:8080/"
        },
        "outputId": "ee2574c5-62ee-4ce1-c946-32141994b7be"
      },
      "source": [
        "pi1 = pi\n",
        "\n",
        "count = 0\n",
        "while True:\n",
        "    pi = pi1@P\n",
        "    if abs(pi1[0,0]-pi[0,0]) < 0.00000001:\n",
        "      break\n",
        "    else:\n",
        "      pi1 = pi\n",
        "      count += 1\n",
        "\n",
        "np.sum(pi), pi, count"
      ],
      "execution_count": 10,
      "outputs": [
        {
          "output_type": "execute_result",
          "data": {
            "text/plain": [
              "(1.0000000000000009,\n",
              " array([[0.1461, 0.1315, 0.1170, 0.1030, 0.0896, 0.0771, 0.0655, 0.0550,\n",
              "         0.0457, 0.0374, 0.0303, 0.0243, 0.0192, 0.0150, 0.0115, 0.0087,\n",
              "         0.0066, 0.0049, 0.0035, 0.0026, 0.0018, 0.0013, 0.0009, 0.0006,\n",
              "         0.0004, 0.0003, 0.0002, 0.0001, 0.0001, 0.0000, 0.0000, 0.0000,\n",
              "         0.0000, 0.0000, 0.0000, 0.0000, 0.0000, 0.0000, 0.0000, 0.0000,\n",
              "         0.0000, 0.0000, 0.0000, 0.0000, 0.0000, 0.0000, 0.0000, 0.0000,\n",
              "         0.0000, 0.0000, 0.0000, 0.0000, 0.0000, 0.0000, 0.0000, 0.0000,\n",
              "         0.0000, 0.0000, 0.0000, 0.0000, 0.0000, 0.0000, 0.0000, 0.0000,\n",
              "         0.0000, 0.0000, 0.0000, 0.0000, 0.0000, 0.0000, 0.0000, 0.0000,\n",
              "         0.0000, 0.0000, 0.0000, 0.0000, 0.0000, 0.0000, 0.0000, 0.0000,\n",
              "         0.0000, 0.0000, 0.0000, 0.0000, 0.0000, 0.0000, 0.0000, 0.0000,\n",
              "         0.0000, 0.0000, 0.0000]]),\n",
              " 45)"
            ]
          },
          "metadata": {},
          "execution_count": 10
        }
      ]
    },
    {
      "cell_type": "code",
      "metadata": {
        "colab": {
          "base_uri": "https://localhost:8080/"
        },
        "id": "GWnpQ9Ou34HJ",
        "outputId": "16063d2e-8bf1-4bf3-8b48-03c745b405f9"
      },
      "source": [
        "phi = np.sum(pi*r, axis=1)\n",
        "\n",
        "print(\"Limiting Phi by recurrsion: \", phi) # long-run average replacement cost"
      ],
      "execution_count": null,
      "outputs": [
        {
          "output_type": "stream",
          "name": "stdout",
          "text": [
            "Limiting Phi by recurrsion:  [-0.1461]\n"
          ]
        }
      ]
    },
    {
      "cell_type": "markdown",
      "metadata": {
        "id": "lFrc1Fk7nAKg"
      },
      "source": [
        "# Part 2: Using Poisson equation"
      ]
    },
    {
      "cell_type": "code",
      "metadata": {
        "id": "53PY8M1d3PQc"
      },
      "source": [
        "def solve_poisson(r, P): \n",
        "  V_coeff = np.identity(91)-P\n",
        "  V_coeff_and_phi_coeff = np.c_[V_coeff, np.ones((91))]\n",
        "  V_and_phi = np.linalg.solve(V_coeff_and_phi_coeff[:,1:], r.T) # set V(0) as zero so excluded first row in calculation\n",
        "  V_1_to_90 = V_and_phi[:-1] # limiting values i.e. V*(1),V*(2)... V*(90)\n",
        "  V_0_to_90 = np.append(0, V_1_to_90) \n",
        "  phi = V_and_phi[-1]\n",
        "\n",
        "  return V_0_to_90, phi"
      ],
      "execution_count": null,
      "outputs": []
    },
    {
      "cell_type": "code",
      "metadata": {
        "colab": {
          "base_uri": "https://localhost:8080/"
        },
        "id": "7VDUc9GiS-05",
        "outputId": "4fb3d8dc-bc1d-44f0-f138-155f46158b17"
      },
      "source": [
        "V_0_to_90, phi = solve_poisson(r, P)\n",
        "\n",
        "print(\"V_0_to_90: \", V_0_to_90)\n",
        "print(\"Poisson Limiting Phi: \", phi) # limiting average replacement cost i.e. phi*"
      ],
      "execution_count": null,
      "outputs": [
        {
          "output_type": "stream",
          "name": "stdout",
          "text": [
            "V_0_to_90:  [0.0000 0.9488 0.9019 0.8589 0.8193 0.7828 0.7490 0.7177 0.6887 0.6617\n",
            " 0.6366 0.6131 0.5912 0.5706 0.5513 0.5332 0.5162 0.5001 0.4849 0.4706\n",
            " 0.4570 0.4441 0.4319 0.4204 0.4094 0.3989 0.3889 0.3794 0.3703 0.3616\n",
            " 0.3533 0.3454 0.3378 0.3305 0.3235 0.3168 0.3103 0.3041 0.2981 0.2924\n",
            " 0.2869 0.2815 0.2764 0.2714 0.2666 0.2620 0.2575 0.2531 0.2490 0.2449\n",
            " 0.2410 0.2371 0.2334 0.2299 0.2264 0.2230 0.2197 0.2165 0.2134 0.2104\n",
            " 0.2075 0.2046 0.2019 0.1992 0.1965 0.1940 0.1915 0.1890 0.1867 0.1843\n",
            " 0.1821 0.1799 0.1777 0.1756 0.1735 0.1715 0.1696 0.1676 0.1658 0.1639\n",
            " 0.1621 0.1604 0.1587 0.1570 0.1553 0.1537 0.1521 0.1506 0.1490 0.1476\n",
            " 0.1461]\n",
            "Poisson Limiting Phi:  [-0.1461]\n"
          ]
        }
      ]
    },
    {
      "cell_type": "markdown",
      "metadata": {
        "id": "JWmNIMPyoGc1"
      },
      "source": [
        "# Part 3: Policy iteration and Value iteration"
      ]
    },
    {
      "cell_type": "code",
      "metadata": {
        "id": "YOlB-CF73RLc"
      },
      "source": [
        "P_action0 = P\n",
        "r_action0 = np.zeros((91))\n",
        "for i in range(91):\n",
        "  r_action0[i] = i*0.01 + 0.1\n",
        "\n",
        "P_action1 = np.zeros((91,91))\n",
        "r_action1 = np.zeros((91))\n",
        "for i in range(91):\n",
        "  P_action1[i][0] = 1\n",
        "  r_action1[i] = 0.5"
      ],
      "execution_count": null,
      "outputs": []
    },
    {
      "cell_type": "markdown",
      "metadata": {
        "id": "k3pYh4e3CQFn"
      },
      "source": [
        "## Policy iteration"
      ]
    },
    {
      "cell_type": "code",
      "metadata": {
        "colab": {
          "base_uri": "https://localhost:8080/"
        },
        "id": "Ife24JpewnQF",
        "outputId": "9f685cbc-bc6a-48fe-f23d-c91f99277332"
      },
      "source": [
        "best_actions = np.zeros((91)) # initialising with action 0's\n",
        "\n",
        "for i in range(91): # loop to compare actions at each state (reference state)\n",
        "  r = np.zeros((91))\n",
        "  P = np.zeros((91,91))\n",
        "\n",
        "  for j in range(91): # constructing vector r and matrix P \n",
        "    if best_actions[j] ==0: \n",
        "      r[j] = r_action0[j]\n",
        "      P[j] = P_action0[j]\n",
        "    else: # if action 1 is found to be the best action in previous iterations (for states before the reference state)\n",
        "      r[j] = r_action1[j]\n",
        "      P[j] = P_action1[j]\n",
        "  \n",
        "  V_0_to_90, _ = solve_poisson(r,P) # V's for the present combination of actions (got after updations to the intialised combination from previous iterations) \n",
        "\n",
        "  action0_value = r_action0 + P_action0@V_0_to_90\n",
        "  action1_value = r_action1 + P_action1@V_0_to_90\n",
        "  action_values = np.vstack((action0_value,action1_value))\n",
        "  best_actions = np.argmin(action_values,axis=0)\n",
        "\n",
        "  if i == 90:\n",
        "    _, policy_phi = solve_poisson(r,P)\n",
        "\n",
        "print(\"best actions:\\n\", best_actions)\n",
        "print(\"preventive actions are taken in states:\\n\", np.argwhere(best_actions==1).T)\n",
        "print(\"Policy iteration Phi: \", policy_phi)"
      ],
      "execution_count": null,
      "outputs": [
        {
          "output_type": "stream",
          "name": "stdout",
          "text": [
            "best actions:\n",
            " [0 0 0 0 0 0 0 0 0 0 0 0 0 1 1 1 1 1 1 1 1 1 1 1 1 1 1 1 1 1 1 1 1 1 1 1 1\n",
            " 1 1 1 1 1 1 1 1 1 1 1 1 1 1 1 1 1 1 1 1 1 1 1 1 1 1 1 1 1 1 1 1 1 1 1 1 1\n",
            " 1 1 1 1 1 1 1 1 1 1 1 1 1 1 1 1 1]\n",
            "preventive actions are taken in states:\n",
            " [[13 14 15 16 17 18 19 20 21 22 23 24 25 26 27 28 29 30 31 32 33 34 35 36\n",
            "  37 38 39 40 41 42 43 44 45 46 47 48 49 50 51 52 53 54 55 56 57 58 59 60\n",
            "  61 62 63 64 65 66 67 68 69 70 71 72 73 74 75 76 77 78 79 80 81 82 83 84\n",
            "  85 86 87 88 89 90]]\n",
            "Policy iteration Phi:  0.14491799482409004\n"
          ]
        }
      ]
    },
    {
      "cell_type": "markdown",
      "metadata": {
        "id": "y9Acir5dCLmn"
      },
      "source": [
        "## Value iteration"
      ]
    },
    {
      "cell_type": "code",
      "metadata": {
        "colab": {
          "base_uri": "https://localhost:8080/"
        },
        "id": "EWSlG4Ec3ucD",
        "outputId": "ff464a65-36d6-40d9-ab39-71e56935e167"
      },
      "source": [
        "V = np.zeros((91))\n",
        "\n",
        "for i in range(91):\n",
        "  V_action0 = r_action0 + P_action0@V\n",
        "  V_action1 = r_action1 + P_action1@V\n",
        "  V_decision = np.minimum(V_action0,V_action1)\n",
        "  if i == 90:\n",
        "  \tValue_phi = (V_decision - V)\n",
        "  V = V_decision\n",
        "\n",
        "print(\"Final V's:\\n\", V_decision)\n",
        "print(\"Value iteration phi: \", Value_phi[0])"
      ],
      "execution_count": null,
      "outputs": [
        {
          "output_type": "stream",
          "name": "stdout",
          "text": [
            "Final V's:\n",
            " [13.0229 13.0728 13.1182 13.1596 13.1971 13.2312 13.2620 13.2895 13.3139\n",
            " 13.3350 13.3526 13.3661 13.3750 13.3780 13.3780 13.3780 13.3780 13.3780\n",
            " 13.3780 13.3780 13.3780 13.3780 13.3780 13.3780 13.3780 13.3780 13.3780\n",
            " 13.3780 13.3780 13.3780 13.3780 13.3780 13.3780 13.3780 13.3780 13.3780\n",
            " 13.3780 13.3780 13.3780 13.3780 13.3780 13.3780 13.3780 13.3780 13.3780\n",
            " 13.3780 13.3780 13.3780 13.3780 13.3780 13.3780 13.3780 13.3780 13.3780\n",
            " 13.3780 13.3780 13.3780 13.3780 13.3780 13.3780 13.3780 13.3780 13.3780\n",
            " 13.3780 13.3780 13.3780 13.3780 13.3780 13.3780 13.3780 13.3780 13.3780\n",
            " 13.3780 13.3780 13.3780 13.3780 13.3780 13.3780 13.3780 13.3780 13.3780\n",
            " 13.3780 13.3780 13.3780 13.3780 13.3780 13.3780 13.3780 13.3780 13.3780\n",
            " 13.3780]\n",
            "Value iteration phi:  0.1449179984802651\n"
          ]
        }
      ]
    },
    {
      "cell_type": "code",
      "metadata": {
        "id": "D5oW2tJLUUOT"
      },
      "source": [
        ""
      ],
      "execution_count": null,
      "outputs": []
    }
  ]
}